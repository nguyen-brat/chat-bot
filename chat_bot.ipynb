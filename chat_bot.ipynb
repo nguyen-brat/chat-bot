{
  "cells": [
    {
      "cell_type": "markdown",
      "metadata": {
        "colab_type": "text",
        "id": "view-in-github"
      },
      "source": [
        "<a href=\"https://colab.research.google.com/github/nguyen-brat/chat-bot/blob/main/chat_bot.ipynb\" target=\"_parent\"><img src=\"https://colab.research.google.com/assets/colab-badge.svg\" alt=\"Open In Colab\"/></a>"
      ]
    },
    {
      "cell_type": "markdown",
      "metadata": {
        "id": "83SM2n2RluKu"
      },
      "source": [
        "# Load data"
      ]
    },
    {
      "cell_type": "code",
      "execution_count": 1,
      "metadata": {
        "id": "5KruY8jDxqxz"
      },
      "outputs": [],
      "source": [
        "import numpy as np\n",
        "import tensorflow as tf\n",
        "import matplotlib.pyplot as plt\n",
        "from tensorflow import keras\n",
        "import os\n",
        "import pandas as pd\n",
        "import re\n",
        "from sklearn.model_selection import train_test_split\n",
        "from tqdm import tqdm\n",
        "import math\n",
        "from tensorflow.keras.layers import TextVectorization"
      ]
    },
    {
      "cell_type": "code",
      "execution_count": 2,
      "metadata": {
        "id": "neGpMnG89Byj"
      },
      "outputs": [],
      "source": [
        "mask_percent = 0.15 # percent data replace with mask\n",
        "train_size = 0.8\n",
        "valid_size = 0.1\n",
        "test_size = 0.1\n",
        "max_len = 512 # max len of input feed to neuron network\n",
        "max_dim = 128 # world embedding dimention\n",
        "batch_size = 32\n",
        "num_epochs = 5\n",
        "n_blocks = 1 # n transformer block\n",
        "lr = 0.01 # learning rate\n",
        "n_heads = 8 # n_head in transformer block\n",
        "drop_rate = 0.1 # drop rate in transformer block\n",
        "freq_word = 30 # remove all world below freq_word\n",
        "d_dim = 128 # dimention in FFN layers\n",
        "vocab_size = 30000"
      ]
    },
    {
      "cell_type": "code",
      "execution_count": 3,
      "metadata": {
        "colab": {
          "base_uri": "https://localhost:8080/"
        },
        "id": "SoIugp8mzvvB",
        "outputId": "9c63b825-5881-41d1-9cc2-23e532818a0d"
      },
      "outputs": [],
      "source": [
        "# from google.colab import drive\n",
        "# drive.mount('/content/drive/')"
      ]
    },
    {
      "cell_type": "code",
      "execution_count": 4,
      "metadata": {
        "colab": {
          "base_uri": "https://localhost:8080/",
          "height": 423
        },
        "id": "UalT1_HhzzkX",
        "outputId": "aca6344f-aa0f-45b1-8436-53d78d6a7572"
      },
      "outputs": [
        {
          "data": {
            "text/html": [
              "<div>\n",
              "<style scoped>\n",
              "    .dataframe tbody tr th:only-of-type {\n",
              "        vertical-align: middle;\n",
              "    }\n",
              "\n",
              "    .dataframe tbody tr th {\n",
              "        vertical-align: top;\n",
              "    }\n",
              "\n",
              "    .dataframe thead th {\n",
              "        text-align: right;\n",
              "    }\n",
              "</style>\n",
              "<table border=\"1\" class=\"dataframe\">\n",
              "  <thead>\n",
              "    <tr style=\"text-align: right;\">\n",
              "      <th></th>\n",
              "      <th>conversation_id</th>\n",
              "      <th>message</th>\n",
              "      <th>sentiment</th>\n",
              "    </tr>\n",
              "  </thead>\n",
              "  <tbody>\n",
              "    <tr>\n",
              "      <th>0</th>\n",
              "      <td>1</td>\n",
              "      <td>Are you a fan of Google or Microsoft?</td>\n",
              "      <td>Curious to dive deeper</td>\n",
              "    </tr>\n",
              "    <tr>\n",
              "      <th>1</th>\n",
              "      <td>1</td>\n",
              "      <td>Both are excellent technology they are helpfu...</td>\n",
              "      <td>Curious to dive deeper</td>\n",
              "    </tr>\n",
              "    <tr>\n",
              "      <th>2</th>\n",
              "      <td>1</td>\n",
              "      <td>I'm not  a huge fan of Google, but I use it a...</td>\n",
              "      <td>Curious to dive deeper</td>\n",
              "    </tr>\n",
              "    <tr>\n",
              "      <th>3</th>\n",
              "      <td>1</td>\n",
              "      <td>Google provides online related services and p...</td>\n",
              "      <td>Curious to dive deeper</td>\n",
              "    </tr>\n",
              "    <tr>\n",
              "      <th>4</th>\n",
              "      <td>1</td>\n",
              "      <td>Yeah, their services are good. I'm just not a...</td>\n",
              "      <td>Curious to dive deeper</td>\n",
              "    </tr>\n",
              "    <tr>\n",
              "      <th>...</th>\n",
              "      <td>...</td>\n",
              "      <td>...</td>\n",
              "      <td>...</td>\n",
              "    </tr>\n",
              "    <tr>\n",
              "      <th>188373</th>\n",
              "      <td>8628</td>\n",
              "      <td>Wow, it does not seem like that long. Since I...</td>\n",
              "      <td>Surprised</td>\n",
              "    </tr>\n",
              "    <tr>\n",
              "      <th>188374</th>\n",
              "      <td>8628</td>\n",
              "      <td>I havent seen that episode, I might google it...</td>\n",
              "      <td>Curious to dive deeper</td>\n",
              "    </tr>\n",
              "    <tr>\n",
              "      <th>188375</th>\n",
              "      <td>8628</td>\n",
              "      <td>I don't think I have either. That's an insane...</td>\n",
              "      <td>Curious to dive deeper</td>\n",
              "    </tr>\n",
              "    <tr>\n",
              "      <th>188376</th>\n",
              "      <td>8628</td>\n",
              "      <td>I did, my little brother used to love Thomas ...</td>\n",
              "      <td>Happy</td>\n",
              "    </tr>\n",
              "    <tr>\n",
              "      <th>188377</th>\n",
              "      <td>8628</td>\n",
              "      <td>It did. Ringo Starr, George Carlin, and Alec ...</td>\n",
              "      <td>Neutral</td>\n",
              "    </tr>\n",
              "  </tbody>\n",
              "</table>\n",
              "<p>188378 rows × 3 columns</p>\n",
              "</div>"
            ],
            "text/plain": [
              "        conversation_id                                            message  \\\n",
              "0                     1              Are you a fan of Google or Microsoft?   \n",
              "1                     1   Both are excellent technology they are helpfu...   \n",
              "2                     1   I'm not  a huge fan of Google, but I use it a...   \n",
              "3                     1   Google provides online related services and p...   \n",
              "4                     1   Yeah, their services are good. I'm just not a...   \n",
              "...                 ...                                                ...   \n",
              "188373             8628   Wow, it does not seem like that long. Since I...   \n",
              "188374             8628   I havent seen that episode, I might google it...   \n",
              "188375             8628   I don't think I have either. That's an insane...   \n",
              "188376             8628   I did, my little brother used to love Thomas ...   \n",
              "188377             8628   It did. Ringo Starr, George Carlin, and Alec ...   \n",
              "\n",
              "                      sentiment  \n",
              "0        Curious to dive deeper  \n",
              "1        Curious to dive deeper  \n",
              "2        Curious to dive deeper  \n",
              "3        Curious to dive deeper  \n",
              "4        Curious to dive deeper  \n",
              "...                         ...  \n",
              "188373                Surprised  \n",
              "188374   Curious to dive deeper  \n",
              "188375   Curious to dive deeper  \n",
              "188376                    Happy  \n",
              "188377                  Neutral  \n",
              "\n",
              "[188378 rows x 3 columns]"
            ]
          },
          "execution_count": 4,
          "metadata": {},
          "output_type": "execute_result"
        }
      ],
      "source": [
        "#data = pd.read_csv(r'/content/drive/MyDrive/topical_chat.csv')\n",
        "data = pd.read_csv(r'topical_chat.csv')\n",
        "data"
      ]
    },
    {
      "cell_type": "code",
      "execution_count": 5,
      "metadata": {
        "id": "xi_TaGmK_0Fq"
      },
      "outputs": [],
      "source": [
        "data_arranged = [[] for _ in range(8628)]\n",
        "for i in range(len(data[:])):\n",
        "  data_arranged[data.iloc[i, 0] - 1].append(data.iloc[i, 1])"
      ]
    },
    {
      "cell_type": "code",
      "execution_count": 6,
      "metadata": {
        "id": "QS2J_9RaJKds"
      },
      "outputs": [],
      "source": [
        "def truncate_text(data_arrange):\n",
        "  list_data = []\n",
        "  for datas in data_arrange:\n",
        "    datas = np.array([(x + ' [sep]').split() for x in datas], dtype = object)\n",
        "    len_data = np.cumsum([len(x) for x in datas])\n",
        "    filter = np.array(len_data < max_len)\n",
        "    datas = datas[filter]\n",
        "    datas = np.concatenate(datas, axis = 0)\n",
        "    list_data.append(list(datas))\n",
        "  return list_data"
      ]
    },
    {
      "cell_type": "code",
      "execution_count": 7,
      "metadata": {
        "id": "L8YbWRi3Ulnk"
      },
      "outputs": [],
      "source": [
        "truncated_data = truncate_text(data_arranged)\n",
        "truncated_data = [' '.join(data) for data in truncated_data]"
      ]
    },
    {
      "cell_type": "code",
      "execution_count": 8,
      "metadata": {
        "colab": {
          "base_uri": "https://localhost:8080/",
          "height": 265
        },
        "id": "2iV9KoDg0RKw",
        "outputId": "bb19e615-c9f0-4b88-9e51-40b31dd7cce2"
      },
      "outputs": [
        {
          "data": {
            "image/png": "[encoded data removed]",
            "text/plain": [
              "<Figure size 432x288 with 1 Axes>"
            ]
          },
          "metadata": {
            "needs_background": "light"
          },
          "output_type": "display_data"
        }
      ],
      "source": [
        "histogram = list(data['conversation_id'])\n",
        "plt.hist(histogram, bins = list(range(8628)))\n",
        "plt.show()\n",
        "#normal conversation roughly 20 turn"
      ]
    },
    {
      "cell_type": "code",
      "execution_count": 9,
      "metadata": {
        "colab": {
          "base_uri": "https://localhost:8080/",
          "height": 265
        },
        "id": "Veyx89Uu3Ilo",
        "outputId": "267665e8-bf2f-4cc4-8def-4cfe759db66d"
      },
      "outputs": [
        {
          "data": {
            "image/png": "[encoded data removed]",
            "text/plain": [
              "<Figure size 432x288 with 1 Axes>"
            ]
          },
          "metadata": {
            "needs_background": "light"
          },
          "output_type": "display_data"
        }
      ],
      "source": [
        "conversation = list(data['message'])\n",
        "conversation = [len(x.split()) for x in conversation]\n",
        "plt.hist(conversation, bins = list(range(max(conversation))))\n",
        "plt.show()\n",
        "# so the average len of a conversation is arround 18 word"
      ]
    },
    {
      "cell_type": "markdown",
      "metadata": {
        "id": "G7mQwjCY9LNC"
      },
      "source": [
        "# Preprocess"
      ]
    },
    {
      "cell_type": "code",
      "execution_count": 10,
      "metadata": {
        "id": "ehmRDYK_4ViA"
      },
      "outputs": [],
      "source": [
        "def custom_data(input):\n",
        "  lower = tf.strings.lower(input)\n",
        "  output = tf.strings.regex_replace(lower, '[^a-zA-Z0-9\\s]', '')\n",
        "  return output"
      ]
    },
    {
      "cell_type": "code",
      "execution_count": null,
      "metadata": {
        "id": "tl8HHQIt-CkS"
      },
      "outputs": [],
      "source": [
        "text_vectorize = keras.layers.TextVectorization(\n",
        "    max_tokens= vocab_size,\n",
        "    standardize = custom_data,\n",
        "    output_mode='int',\n",
        "    output_sequence_length=max_len,\n",
        "    pad_to_max_tokens = True,\n",
        "    encoding='utf-8',\n",
        ")\n",
        "text_vectorize.adapt(truncated_data)"
      ]
    },
    {
      "cell_type": "code",
      "execution_count": null,
      "metadata": {
        "id": "F3kuRmjfds5i"
      },
      "outputs": [],
      "source": [
        "def get_mask(array):\n",
        "  mask = array == 0\n",
        "  mask = tf.where(mask == True, 0, 1)\n",
        "  return mask"
      ]
    },
    {
      "cell_type": "code",
      "execution_count": null,
      "metadata": {
        "id": "_K1eCcLGZxoY"
      },
      "outputs": [],
      "source": [
        "def preprocess_dataset(text):\n",
        "  data = text_vectorize(text)\n",
        "  mask = get_mask(data)\n",
        "  data = tf.data.Dataset.from_tensor_slices(data)\n",
        "  mask = tf.data.Dataset.from_tensor_slices(mask)\n",
        "  data = tf.data.Dataset.zip((data, mask)).batch(batch_size).shuffle(1000)\n",
        "  data = data.map(lambda data, mask: (data[:, :-1], data[:, 1:], mask[:, :-1], mask[:, 1:]))\n",
        "  data = data.prefetch(tf.data.AUTOTUNE)\n",
        "  return data"
      ]
    },
    {
      "cell_type": "code",
      "execution_count": null,
      "metadata": {
        "colab": {
          "base_uri": "https://localhost:8080/"
        },
        "id": "a-4p_f3owg1A",
        "outputId": "00942476-39b1-4dca-8a49-b62154cd7cee"
      },
      "outputs": [
        {
          "name": "stderr",
          "output_type": "stream",
          "text": [
            "WARNING:tensorflow:From /usr/local/lib/python3.8/dist-packages/tensorflow/python/autograph/pyct/static_analysis/liveness.py:83: Analyzer.lamba_check (from tensorflow.python.autograph.pyct.static_analysis.liveness) is deprecated and will be removed after 2023-09-23.\n",
            "Instructions for updating:\n",
            "Lambda fuctions will be no more assumed to be used in the statement where they are used, or at least in the same block. https://github.com/tensorflow/tensorflow/issues/56089\n"
          ]
        }
      ],
      "source": [
        "dataset = preprocess_dataset(truncated_data)"
      ]
    },
    {
      "cell_type": "markdown",
      "metadata": {
        "id": "cG86umikxjRH"
      },
      "source": [
        "# Build Model"
      ]
    },
    {
      "cell_type": "code",
      "execution_count": null,
      "metadata": {},
      "outputs": [],
      "source": [
        "class RelativePositionalEncoding(keras.layers.Layer):\n",
        "  def __init__(self, max_relative, num_head):\n",
        "    super().__init__()\n",
        "    self.max_relative = max_relative\n",
        "    self.num_head = num_head\n",
        "    w_init = keras.initializers.GlorotUniform()\n",
        "    with tf.name_scope(self.name):\n",
        "      self.embedding = tf.Variable(\n",
        "          initial_value = w_init(shape=(num_head, max_relative * 2 + 1), dtype=\"float32\"), \n",
        "          trainable = True\n",
        "      )\n",
        "  def call(self, q_len, k_len):\n",
        "    range_vec_q = tf.range(q_len)\n",
        "    range_vec_k = tf.range(k_len)\n",
        "    relative_pos = range_vec_q[:, None] - range_vec_k[None, :]\n",
        "    relative_pos = tf.clip_by_value(relative_pos, -self.max_relative, self.max_relative)\n",
        "    relative_pos = relative_pos + self.max_relative\n",
        "    relative_pos = tf.reshape(tf.tile(relative_pos, [self.num_head, 1]), shape = (self.num_head, q_len, k_len))\n",
        "    num_head_index = tf.range(self.num_head, dtype = 'int32')\n",
        "    num_head_index = tf.reshape(tf.tile(num_head_index, [q_len*k_len]), shape = (q_len, k_len, self.num_head))\n",
        "    num_head_index = tf.transpose(num_head_index, perm = [2, 0, 1]) # shape = num_head, q_len, k_len\n",
        "    relative_pos = tf.stack([num_head_index, relative_pos], axis = 0) # shape = 2, num_head, q_len, k_len\n",
        "    relative_pos = tf.transpose(relative_pos, perm = [1, 2, 3, 0]) # shape = num_head, q_len, k_len, 2\n",
        "    relative_emb = tf.gather_nd(self.embedding, relative_pos) # shape = num_head, q_len, k_len\n",
        "    return relative_emb"
      ]
    },
    {
      "cell_type": "code",
      "execution_count": null,
      "metadata": {
        "id": "OscPumdSxHg_"
      },
      "outputs": [],
      "source": [
        "class MultiheadAttention(keras.layers.Layer):\n",
        "  def __init__(self, n_heads = 8, dropout_rate = 0.1, use_usual_case = False, use_relative_embed = False, max_relative_pos = 128, **kwargs):\n",
        "    super(MultiheadAttention, self).__init__()\n",
        "    self.usual = use_usual_case\n",
        "    self.n_heads = n_heads\n",
        "    self.dropout_rate = dropout_rate\n",
        "    self.use_relative_embed = use_relative_embed\n",
        "    self.max_relative_pos = max_relative_pos\n",
        "  def build(self, batch_input_shape):\n",
        "    self.batch, self.q_time_steps, self.dim = batch_input_shape\n",
        "    self.q_linear = keras.layers.Conv1D(self.dim * self.n_heads, kernel_size = 1, strides = 1, padding = 'valid', use_bias = False)\n",
        "    self.k_linear = keras.layers.Conv1D(self.dim * self.n_heads, kernel_size = 1, strides = 1, padding = 'valid', use_bias = False)\n",
        "    self.v_linear = keras.layers.Conv1D(self.dim * self.n_heads, kernel_size = 1, strides = 1, padding = 'valid', use_bias = False)\n",
        "    self.linear_out = keras.layers.Conv1D(self.dim, kernel_size = 1, strides = 1, padding = 'valid', use_bias = False)\n",
        "    self.drop_out = keras.layers.Dropout(self.dropout_rate)\n",
        "    if self.use_relative_embed:\n",
        "      self.relative_emb = RelativePositionalEncoding(self.max_relative_pos, self.n_heads)\n",
        "    super().build(batch_input_shape)\n",
        "  def mask_attention(self, q, k, v, masking = None, use_usual_case = False):\n",
        "    q_len = q.shape[1]\n",
        "    k_len = k.shape[1]\n",
        "    if masking is None:\n",
        "      mask = tf.ones(shape = (q_len, k_len))\n",
        "      if use_usual_case:\n",
        "        mask = tf.experimental.numpy.tril(mask, 0)\n",
        "      mask = tf.where(mask == 0, -1e6, 0)\n",
        "    else:\n",
        "      mask = tf.reshape(tf.repeat(masking, q_len * self.n_heads, axis = 0), shape = [-1 , q_len, k_len]) # mask shape = [batch * n_heads, q_len, k_len]\n",
        "      if use_usual_case:\n",
        "        mask = tf.experimental.numpy.tril(mask, 0)\n",
        "      mask = tf.where(mask == 0, -1e6, 0)\n",
        "    normalize = tf.math.sqrt(tf.cast(self.dim, dtype=tf.float32))\n",
        "    attention = tf.linalg.matmul(q, tf.transpose(k, perm = [0, 2, 1])) / normalize\n",
        "    attention = attention + mask\n",
        "    if self.use_relative_embed:\n",
        "      attention = tf.reshape(attention, shape = [-1, self.n_heads, q_len, k_len])\n",
        "      attention = self.relative_emb(q_len, k_len) + attention\n",
        "      attention = tf.reshape(attention, shape = [-1, q_len, k_len])\n",
        "    norm_attention = tf.nn.softmax(attention, axis = -1)\n",
        "    output = tf.linalg.matmul(norm_attention, v)\n",
        "    return output, norm_attention\n",
        "  def linear_attention(self, input, linear):\n",
        "    timestep = input.shape[1]\n",
        "    output = linear(input)\n",
        "    output = tf.reshape(output, shape = [-1, timestep, self.n_heads, self.dim]) # (batch, timestep, n_heads, dimension)\n",
        "    output = tf.transpose(output, perm = [0, 2, 1, 3])\n",
        "    output = tf.reshape(output, shape = [-1 , timestep, self.dim]) # (batch*n_heads, timestep, dimension)\n",
        "    return output\n",
        "  def call(self, Q, V, masking = None):\n",
        "    K = V\n",
        "    Q = self.linear_attention(Q, self.q_linear)\n",
        "    K = self.linear_attention(K, self.k_linear)\n",
        "    V = self.linear_attention(V, self.v_linear)\n",
        "    output, attention_weight = self.mask_attention(Q, K, V, masking = masking, use_usual_case = self.usual)\n",
        "    output = tf.reshape(output, shape = [-1, self.n_heads, self.q_time_steps, self.dim]) # (batch, n_heads, q_time_steps, dimension)\n",
        "    output = tf.transpose(output, perm = [0, 2, 1, 3])\n",
        "    output = tf.reshape(output, shape = [-1, self.q_time_steps, self.n_heads*self.dim]) # (batch, n_heads, q_time_steps, dimension)\n",
        "    output = self.linear_out(output)\n",
        "    output = self.drop_out(output)\n",
        "    return output, attention_weight"
      ]
    },
    {
      "cell_type": "code",
      "execution_count": 16,
      "metadata": {
        "id": "5KoNWhCexson"
      },
      "outputs": [],
      "source": [
        "class PositionalEncoding(keras.layers.Layer):\n",
        "    def __init__(self, max_steps, max_dims, dtype=tf.float32, **kwargs):\n",
        "        super().__init__(dtype=dtype, **kwargs)\n",
        "        if max_dims % 2 == 1: max_dims += 1 # max_dims must be even\n",
        "        p, i = np.meshgrid(np.arange(max_steps), np.arange(max_dims // 2))\n",
        "        pos_emb = np.empty((1, max_steps, max_dims))\n",
        "        pos_emb[0, :, ::2] = np.sin(p / 10000**(2 * i / max_dims)).T\n",
        "        pos_emb[0, :, 1::2] = np.cos(p / 10000**(2 * i / max_dims)).T\n",
        "        self.positional_embedding = tf.constant(pos_emb.astype(self.dtype))\n",
        "    def call(self, inputs):\n",
        "        shape = tf.shape(inputs)\n",
        "        return inputs + self.positional_embedding[:, :shape[-2], :shape[-1]]"
      ]
    },
    {
      "cell_type": "code",
      "execution_count": 17,
      "metadata": {
        "id": "6DoRhIKWxupn"
      },
      "outputs": [],
      "source": [
        "class FFN(keras.layers.Layer):\n",
        "  def __init__(self, d_dim = d_dim, drop_rate = drop_rate):\n",
        "    super().__init__()\n",
        "    self.d_dim = d_dim\n",
        "    self.drop = keras.layers.Dropout(drop_rate)\n",
        "    self.normalize = keras.layers.LayerNormalization(epsilon=1e-6)\n",
        "  def build(self, batch_input_shape):\n",
        "    self.dense = keras.layers.Dense(self.d_dim, activation = 'relu')\n",
        "    self.d_model = keras.layers.Dense(batch_input_shape[-1])\n",
        "  def call(self, input):\n",
        "    emb = self.dense(input)\n",
        "    bottle_neck = self.d_model(emb)\n",
        "    add = bottle_neck + input\n",
        "    normalize = self.normalize(add)\n",
        "    output = self.drop(normalize)\n",
        "    return output"
      ]
    },
    {
      "cell_type": "code",
      "execution_count": 18,
      "metadata": {
        "id": "1Pyag0t-xwMv"
      },
      "outputs": [],
      "source": [
        "class transformer_block(keras.layers.Layer):\n",
        "  def __init__(self, n_heads = n_heads, drop_rate = drop_rate, d_dim = d_dim):\n",
        "    super(transformer_block, self).__init__()\n",
        "    self.n_heads = n_heads\n",
        "    self.drop_rate = drop_rate\n",
        "    self.MulAttention = MultiheadAttention(n_heads, drop_rate, True, True)\n",
        "    #self.MulAttention = keras.layers.MultiHeadAttention(num_heads = n_heads, key_dim = d_dim)\n",
        "    self.ffn = FFN(d_dim, drop_rate)\n",
        "    self.normalize = keras.layers.LayerNormalization(epsilon=1e-6)\n",
        "  def call(self, inputs, mask = None):\n",
        "    #x, attention_weight = self.MulAttention(inputs, mask_q, mask_k)\n",
        "    x, _ = self.MulAttention(inputs, inputs, mask)\n",
        "    x = x + inputs\n",
        "    normalize = self.normalize(x)\n",
        "    output = self.ffn(normalize)\n",
        "    return output"
      ]
    },
    {
      "cell_type": "code",
      "execution_count": 23,
      "metadata": {
        "id": "S03qJ95Jxx0P"
      },
      "outputs": [],
      "source": [
        "loss_fn = keras.losses.SparseCategoricalCrossentropy()\n",
        "loss_tracker = tf.keras.metrics.Mean(name=\"loss\")\n",
        "class MaskLanguageModel(keras.Model):\n",
        "  def __init__(self, d_dim = d_dim, vocab_size = vocab_size ,max_steps = max_len, max_dims = max_dim, n_heads = n_heads, drop_rate = drop_rate, n_blocks = n_blocks):\n",
        "    super().__init__()\n",
        "    self.position = PositionalEncoding(max_steps = max_steps, max_dims = max_dims)\n",
        "    self.transformers = [transformer_block(n_heads = n_heads, drop_rate = drop_rate, d_dim = d_dim) for _ in range(n_blocks)]\n",
        "    self.dense = keras.layers.Dense(vocab_size)\n",
        "    self.embed = keras.layers.Embedding(vocab_size, max_dims, input_length = max_steps)\n",
        "  def call(self, inputs, mask = None):\n",
        "    embed = self.embed(inputs)\n",
        "    pos_emb = self.position(embed)\n",
        "    x = self.transformers[0](pos_emb, mask)\n",
        "    for block in self.transformers[1:]:\n",
        "      x = block(x, mask)\n",
        "    output = self.dense(x)\n",
        "    output = tf.nn.softmax(output, axis = -1)\n",
        "    return output\n",
        "  def train_step(self, data):\n",
        "    input, label, mask_input, mask_label = data\n",
        "    with tf.GradientTape() as tape:\n",
        "      predictions = self(input, mask_input)\n",
        "      loss = loss_fn(label, predictions, sample_weight = mask_label)\n",
        "    # Compute gradients\n",
        "    trainable_vars = self.trainable_variables\n",
        "    gradients = tape.gradient(loss, trainable_vars)\n",
        "    # Update weights\n",
        "    self.optimizer.apply_gradients(zip(gradients, trainable_vars))\n",
        "    # Compute our own metrics\n",
        "    loss_tracker.update_state(loss, sample_weight = mask_label)\n",
        "    # Return a dict mapping metric names to current value\n",
        "    return {\"loss\": loss_tracker.result()}"
      ]
    },
    {
      "cell_type": "code",
      "execution_count": null,
      "metadata": {
        "id": "t8P0DDGez1sB"
      },
      "outputs": [],
      "source": [
        "callback = tf.keras.callbacks.EarlyStopping(monitor = 'loss', patience = 3)\n",
        "model = MaskLanguageModel(max_steps = max_len - 1)\n",
        "model.compile(optimizer = keras.optimizers.Adam())\n",
        "history = model.fit(dataset, epochs = 30, callbacks=[callback])"
      ]
    },
    {
      "cell_type": "code",
      "execution_count": 21,
      "metadata": {
        "id": "fA3_H1hc6l3C"
      },
      "outputs": [],
      "source": [
        "vocab = text_vectorize.get_vocabulary()\n",
        "def decode_sentence(array):\n",
        "  return \" \".join([vocab[each] for each in array])"
      ]
    },
    {
      "cell_type": "code",
      "execution_count": 47,
      "metadata": {
        "id": "Qu-eTDbfpg7E"
      },
      "outputs": [],
      "source": [
        "def inference(text):\n",
        "  text += ' sep'\n",
        "  index = len(text.split())\n",
        "  list_prediction = []\n",
        "  prediction = ''\n",
        "  while prediction != 'sep':\n",
        "    encode_text = text_vectorize([text])[:, :-1]\n",
        "    mask = get_mask(encode_text)\n",
        "    prediction = model(encode_text, mask)\n",
        "    prediction = np.argmax(prediction, axis = -1)[0]\n",
        "    prediction = vocab[prediction[index]]\n",
        "    text += ' ' + prediction\n",
        "    list_prediction.append(prediction)\n",
        "    index += 1\n",
        "  return ' '.join(list_prediction[:-1])"
      ]
    },
    {
      "cell_type": "code",
      "execution_count": 54,
      "metadata": {
        "colab": {
          "base_uri": "https://localhost:8080/",
          "height": 36
        },
        "id": "QRzo06M05P2J",
        "outputId": "003d4c60-b3c0-4dc9-844c-f9756a1928b1"
      },
      "outputs": [
        {
          "data": {
            "application/vnd.google.colaboratory.intrinsic+json": {
              "type": "string"
            },
            "text/plain": [
              "'was and i i like too and i like too i and my is a fan'"
            ]
          },
          "execution_count": 54,
          "metadata": {},
          "output_type": "execute_result"
        }
      ],
      "source": [
        "inference('Hey what\\'s up do use Google very often?I really love the company and was surprised to hear that it was founded back in 1998.')"
      ]
    },
    {
      "cell_type": "code",
      "execution_count": null,
      "metadata": {
        "id": "ui6fSRrKzk1U"
      },
      "outputs": [],
      "source": []
    }
  ],
  "metadata": {
    "accelerator": "GPU",
    "colab": {
      "authorship_tag": "ABX9TyO8n6MiQz/5gcVIxRX7PGm0",
      "include_colab_link": true,
      "provenance": []
    },
    "gpuClass": "standard",
    "kernelspec": {
      "display_name": "tf_2",
      "language": "python",
      "name": "python3"
    },
    "language_info": {
      "codemirror_mode": {
        "name": "ipython",
        "version": 3
      },
      "file_extension": ".py",
      "mimetype": "text/x-python",
      "name": "python",
      "nbconvert_exporter": "python",
      "pygments_lexer": "ipython3",
      "version": "3.8.0"
    },
    "vscode": {
      "interpreter": {
        "hash": "14c0cc5a2914ae78849257d74efb3e5392f9050abd9340a58c7e45cf8b1836b5"
      }
    }
  },
  "nbformat": 4,
  "nbformat_minor": 0
}
